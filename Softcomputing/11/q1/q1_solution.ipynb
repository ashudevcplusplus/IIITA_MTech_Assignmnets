{
  "nbformat": 4,
  "nbformat_minor": 0,
  "metadata": {
    "colab": {
      "name": "Untitled23.ipynb",
      "provenance": [],
      "collapsed_sections": []
    },
    "kernelspec": {
      "name": "python3",
      "display_name": "Python 3"
    },
    "language_info": {
      "name": "python"
    }
  },
  "cells": [
    {
      "cell_type": "code",
      "metadata": {
        "colab": {
          "base_uri": "https://localhost:8080/",
          "height": 0
        },
        "id": "L-vYWEghm04Z",
        "outputId": "82bc3b81-e5d6-443e-9a4a-b9b96ce7777c"
      },
      "source": [
        "import numpy as numpy____library_____imported \n",
        "def Fuzzy_______operation____method(variable___vector___x, variable___vector__a, variable___vector__y, variable___vector__b, op):\n",
        "    variable___yy, variable___xx = numpy____library_____imported.meshgrid(variable___vector__y, variable___vector___x, sparse=True)\n",
        "    variable___bb, variable___aa = numpy____library_____imported.meshgrid(variable___vector__b, variable___vector__a, sparse=True)\n",
        "    variable___zz = op(variable___xx, variable___yy).ravel()\n",
        "    zz_index = numpy____library_____imported.argsort(variable___zz)\n",
        "    variable___zz = numpy____library_____imported.sort(variable___zz)\n",
        "    variable___c = numpy____library_____imported.fmin(variable___aa, variable___bb).ravel()\n",
        "    variable___c = variable___c[zz_index]\n",
        "    z, variable___mfz = numpy____library_____imported.zeros(0), numpy____library_____imported.zeros(0)\n",
        "    idx = 0\n",
        "\n",
        "    for _ in range(len(variable___c)):\n",
        "        index = numpy____library_____imported.nonzero(variable___zz == variable___zz[idx])[0]\n",
        "        z = numpy____library_____imported.hstack((z, variable___zz[idx]))\n",
        "        variable___mfz = numpy____library_____imported.hstack((variable___mfz, variable___c[index].max()))\n",
        "        idx = index[-1] + 1\n",
        "        if idx >= len(variable___zz):\n",
        "            break\n",
        "    return z, variable___mfz\n",
        "\n",
        "\n",
        "def fuzzy_____addition(variable___vector___x, variable___vector__a, variable___vector__y, variable___vector__b):\n",
        "    return Fuzzy_______operation____method(variable___vector___x, variable___vector__a, variable___vector__y, variable___vector__b, op=numpy____library_____imported.add)\n",
        "\n",
        "\n",
        "def fuzzy______division(variable___vector___x, variable___vector__a, variable___vector__y, variable___vector__b):\n",
        "    if numpy____library_____imported.all(numpy____library_____imported.asarray(variable___vector__y) == 0):\n",
        "        Warning('The 0 value(s) will never be used in the calculation!')\n",
        "    index = numpy____library_____imported.where(variable___vector__y == 0)[0]\n",
        "    numpy____library_____imported.delete(variable___vector__y, index)\n",
        "    numpy____library_____imported.delete(variable___vector__b, index)\n",
        "    return Fuzzy_______operation____method(variable___vector___x, variable___vector__a, variable___vector__y, variable___vector__b, op=numpy____library_____imported.divide)\n",
        "\n",
        "def fuzzy_mult(variable___vector___x, variable___vector__a, variable___vector__y, variable___vector__b):\n",
        "    return Fuzzy_______operation____method(variable___vector___x, variable___vector__a, variable___vector__y, variable___vector__b, op=numpy____library_____imported.multiply)\n",
        "\n",
        "\n",
        "def fuzzy_sub(variable___vector___x, variable___vector__a, variable___vector__y, variable___vector__b):\n",
        "    return Fuzzy_______operation____method(variable___vector___x, variable___vector__a, variable___vector__y, variable___vector__b, op=numpy____library_____imported.subtract)\n",
        "\n",
        "\n",
        "variable___vector___x=[11,22,33,44]\n",
        "variable___vector__a=[7,7,7,7]\n",
        "variable___vector__y=[21,41,51,61]\n",
        "variable___vector__b=[25,35,35,25]\n",
        "\n",
        "variable___k1=fuzzy_____addition(variable___vector___x,variable___vector__a,variable___vector__y,variable___vector__b)\n",
        "print(\"Fuzzy Addition Operation Output\")\n",
        "print(variable___k1)\n",
        "variable___k2=fuzzy_sub(variable___vector___x,variable___vector__a,variable___vector__y,variable___vector__b)\n",
        "print(\"Fuzzy Substraction  Operation Output\")\n",
        "print(variable___k2)\n",
        "print(\"Fuzzy Multiplication Operation Output\")\n",
        "variable___k3=fuzzy_mult(variable___vector___x,variable___vector__a,variable___vector__y,variable___vector__b)\n",
        "print(variable___k3)\n",
        "print(\"Division\")\n",
        "r4=fuzzy______division(variable___vector___x,variable___vector__a,variable___vector__y,variable___vector__b)\n",
        "print(r4)"
      ],
      "execution_count": 2,
      "outputs": [
        {
          "output_type": "stream",
          "text": [
            "Fuzzy Addition Operation Output\n",
            "(array([ 32.,  43.,  52.,  54.,  62.,  63.,  65.,  72.,  73.,  74.,  83.,\n",
            "        84.,  85.,  94.,  95., 105.]), array([7., 7., 7., 7., 7., 7., 7., 7., 7., 7., 7., 7., 7., 7., 7., 7.]))\n",
            "Fuzzy Substraction  Operation Output\n",
            "(array([-50., -40., -39., -30., -29., -28., -19., -18., -17., -10.,  -8.,\n",
            "        -7.,   1.,   3.,  12.,  23.]), array([7., 7., 7., 7., 7., 7., 7., 7., 7., 7., 7., 7., 7., 7., 7., 7.]))\n",
            "Fuzzy Multiplication Operation Output\n",
            "(array([ 231.,  451.,  462.,  561.,  671.,  693.,  902.,  924., 1122.,\n",
            "       1342., 1353., 1683., 1804., 2013., 2244., 2684.]), array([7., 7., 7., 7., 7., 7., 7., 7., 7., 7., 7., 7., 7., 7., 7., 7.]))\n",
            "Division\n",
            "(array([0.18032787, 0.21568627, 0.26829268, 0.36065574, 0.43137255,\n",
            "       0.52380952, 0.53658537, 0.54098361, 0.64705882, 0.72131148,\n",
            "       0.80487805, 0.8627451 , 1.04761905, 1.07317073, 1.57142857,\n",
            "       2.0952381 ]), array([7., 7., 7., 7., 7., 7., 7., 7., 7., 7., 7., 7., 7., 7., 7., 7.]))\n"
          ],
          "name": "stdout"
        }
      ]
    },
    {
      "cell_type": "code",
      "metadata": {
        "id": "-ReqC6Vgm1tC"
      },
      "source": [
        ""
      ],
      "execution_count": null,
      "outputs": []
    }
  ]
}