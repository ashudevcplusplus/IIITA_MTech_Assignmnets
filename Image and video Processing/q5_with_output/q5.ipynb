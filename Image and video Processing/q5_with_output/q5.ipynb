{
  "nbformat": 4,
  "nbformat_minor": 0,
  "metadata": {
    "colab": {
      "name": "Untitled23.ipynb",
      "provenance": []
    },
    "kernelspec": {
      "name": "python3",
      "display_name": "Python 3"
    },
    "language_info": {
      "name": "python"
    }
  },
  "cells": [
    {
      "cell_type": "code",
      "metadata": {
        "colab": {
          "base_uri": "https://localhost:8080/"
        },
        "id": "S-f6L60_oJfQ",
        "outputId": "da6ae7a3-450c-4429-ce31-e8d1ac005270"
      },
      "source": [
        "\n",
        "var______________string_______input_text = 'DIGITAL IMAGE PROCESSING'\n",
        "class Method_______node_of_tree(object):\n",
        "\n",
        "    def __init__(self, left=None, right=None):\n",
        "        self.left = left\n",
        "        self.right = right\n",
        "\n",
        "    def child(self):\n",
        "        return (self.left, self.right)\n",
        "\n",
        "    def variable___________node_____of________Tree(self):\n",
        "        return (self.left, self.right)\n",
        "\n",
        "    def __str__(self):\n",
        "        return '%s_%s' % (self.left, self.right)\n",
        "\n",
        "\n",
        "\n",
        "def Method_____function_for_huffman(NODE, left=True, separator=''):\n",
        "    if type(NODE) is str:\n",
        "        return {NODE: separator}\n",
        "    (l, r) = NODE.child()\n",
        "    temp = dict()\n",
        "    temp.update(Method_____function_for_huffman(l, True, separator + '0'))\n",
        "    temp.update(Method_____function_for_huffman(r, False, separator + '1'))\n",
        "    return temp\n",
        "\n",
        "\n",
        "\n",
        "frequency___________list______________________array = {}\n",
        "for t in var______________string_______input_text:\n",
        "    if t in frequency___________list______________________array:\n",
        "        frequency___________list______________________array[t] += 1\n",
        "    else:\n",
        "        frequency___________list______________________array[t] = 1\n",
        "\n",
        "frequency___________list______________________array = sorted(frequency___________list______________________array.items(), key=lambda x: x[1], reverse=True)\n",
        "\n",
        "variable___________node_____of________Tree = frequency___________list______________________array\n",
        "\n",
        "while len(variable___________node_____of________Tree) > 1:\n",
        "    (KEY_1, F_1) = variable___________node_____of________Tree[-1]\n",
        "    (KEY_2, F_2) = variable___________node_____of________Tree[-2]\n",
        "    variable___________node_____of________Tree = variable___________node_____of________Tree[:-2]\n",
        "    NODE = Method_______node_of_tree(KEY_1, KEY_2)\n",
        "    variable___________node_____of________Tree.append((NODE, F_1 + F_2))\n",
        "\n",
        "    variable___________node_____of________Tree = sorted(variable___________node_____of________Tree, key=lambda x: x[1], reverse=True)\n",
        "\n",
        "Huffman______________code___________Var = Method_____function_for_huffman(variable___________node_____of________Tree[0][0])\n",
        "\n",
        "print(' character | Corresponding Huffman code ')\n",
        "print('----------------------')\n",
        "for (c, frequency) in frequency___________list______________________array:\n",
        "    print(' %-4r |%12s' % (c, Huffman______________code___________Var[c]))\n",
        "print(\"Encoded String:\")    \n",
        "for t in var______________string_______input_text:\n",
        "  print(Huffman______________code___________Var[t],end=\" \")"
      ],
      "execution_count": 11,
      "outputs": [
        {
          "output_type": "stream",
          "text": [
            " character | Corresponding Huffman code \n",
            "----------------------\n",
            " 'I'  |          00\n",
            " 'G'  |         100\n",
            " 'A'  |         010\n",
            " ' '  |        1011\n",
            " 'E'  |        1010\n",
            " 'S'  |        1101\n",
            " 'D'  |        0110\n",
            " 'T'  |       01111\n",
            " 'L'  |       01110\n",
            " 'M'  |       11101\n",
            " 'P'  |       11100\n",
            " 'R'  |       11111\n",
            " 'O'  |       11110\n",
            " 'C'  |       11001\n",
            " 'N'  |       11000\n",
            "Encoded String:\n",
            "0110 00 100 00 01111 010 01110 1011 00 11101 010 100 1010 1011 11100 11111 11110 11001 1010 1101 1101 00 11000 100 "
          ],
          "name": "stdout"
        }
      ]
    },
    {
      "cell_type": "code",
      "metadata": {
        "id": "IH8sG2VuoYcC"
      },
      "source": [
        ""
      ],
      "execution_count": null,
      "outputs": []
    }
  ]
}