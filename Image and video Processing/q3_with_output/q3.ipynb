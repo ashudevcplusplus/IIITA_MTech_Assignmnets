{
  "nbformat": 4,
  "nbformat_minor": 0,
  "metadata": {
    "colab": {
      "name": "Untitled23.ipynb",
      "provenance": []
    },
    "kernelspec": {
      "name": "python3",
      "display_name": "Python 3"
    },
    "language_info": {
      "name": "python"
    }
  },
  "cells": [
    {
      "cell_type": "code",
      "metadata": {
        "colab": {
          "base_uri": "https://localhost:8080/",
          "height": 1000
        },
        "id": "S-f6L60_oJfQ",
        "outputId": "50f6b2e2-3eb5-4125-bf8c-d714d3711024"
      },
      "source": [
        "import cv2\n",
        "\n",
        "import numpy as imported_numpy_lib\n",
        "\n",
        "from google.colab.patches import cv2_imshow\n",
        "\n",
        "imported_____image = cv2.imread('/content/Figure6.png',0)\n",
        "implemented_______kernel = imported_numpy_lib.ones((5,5),imported_numpy_lib.uint8)\n",
        "erosion = cv2.erode(imported_____image,implemented_______kernel,iterations = 1)\n",
        "cv2_imshow(erosion)\n",
        "\n",
        "morphological__________dilation = cv2.dilate(imported_____image,implemented_______kernel,iterations = 1 )\n",
        "\n",
        "cv2_imshow(morphological__________dilation)\n",
        "\n",
        "morphological__________morpho = cv2.morphologyEx(imported_____image, cv2.MORPH_OPEN, implemented_______kernel)\n",
        "cv2_imshow(morphological__________morpho)\n",
        "\n",
        "closing = cv2.morphologyEx(imported_____image, cv2.MORPH_CLOSE, implemented_______kernel)\n",
        "cv2_imshow(closing)\n",
        "\n",
        "morphological__________morphoex = cv2.morphologyEx(imported_____image, cv2.MORPH_GRADIENT, implemented_______kernel)\n",
        "cv2_imshow(morphological__________morphoex)\n",
        "\n",
        "morphological__________blckhat = cv2.morphologyEx(imported_____image, cv2.MORPH_BLACKHAT, implemented_______kernel)\n",
        "cv2_imshow(morphological__________blckhat)"
      ],
      "execution_count": 2,
      "outputs": [
        {
          "output_type": "display_data",
          "data": {
            "image/png": "[encoded data removed]",
            "text/plain": [
              "<PIL.Image.Image image mode=L size=277x351 at 0x7F7AD9B03750>"
            ]
          },
          "metadata": {
            "tags": []
          }
        },
        {
          "output_type": "display_data",
          "data": {
            "image/png": "[encoded data removed]",
            "text/plain": [
              "<PIL.Image.Image image mode=L size=277x351 at 0x7F7AD9B03750>"
            ]
          },
          "metadata": {
            "tags": []
          }
        },
        {
          "output_type": "display_data",
          "data": {
            "image/png": "[encoded data removed]",
            "text/plain": [
              "<PIL.Image.Image image mode=L size=277x351 at 0x7F7AD9B03910>"
            ]
          },
          "metadata": {
            "tags": []
          }
        },
        {
          "output_type": "display_data",
          "data": {
            "image/png": "[encoded data removed]",
            "text/plain": [
              "<PIL.Image.Image image mode=L size=277x351 at 0x7F7AD9B03F10>"
            ]
          },
          "metadata": {
            "tags": []
          }
        },
        {
          "output_type": "display_data",
          "data": {
            "image/png": "[encoded data removed]",
            "text/plain": [
              "<PIL.Image.Image image mode=L size=277x351 at 0x7F7AD9B03C50>"
            ]
          },
          "metadata": {
            "tags": []
          }
        },
        {
          "output_type": "display_data",
          "data": {
            "image/png": "[encoded data removed]",
            "text/plain": [
              "<PIL.Image.Image image mode=L size=277x351 at 0x7F7AD9B03750>"
            ]
          },
          "metadata": {
            "tags": []
          }
        }
      ]
    },
    {
      "cell_type": "code",
      "metadata": {
        "id": "IH8sG2VuoYcC"
      },
      "source": [
        ""
      ],
      "execution_count": null,
      "outputs": []
    }
  ]
}