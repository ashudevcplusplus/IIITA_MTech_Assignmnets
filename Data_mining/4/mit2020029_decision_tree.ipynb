{
 "cells": [
  {
   "cell_type": "markdown",
   "metadata": {},
   "source": [
    "# Decision Tree Algorithm\n",
    " \n",
    "Decision Tree algorithm belongs to the family of supervised learning algorithms. Unlike other supervised learning algorithms, the decision tree algorithm can be used for solving regression and classification problems too.\n",
    "\n",
    "The goal of using a Decision Tree is to create a training model that can use to predict the class or value of the target variable by learning simple decision rules inferred from prior data(training data).\n",
    "\n",
    "In Decision Trees, for predicting a class label for a record we start from the root of the tree. We compare the values of the root attribute with the record’s attribute. On the basis of comparison, we follow the branch corresponding to that value and jump to the next node."
   ]
  },
  {
   "cell_type": "markdown",
   "metadata": {},
   "source": [
    "# Inserting Libraries"
   ]
  },
  {
   "cell_type": "code",
   "execution_count": 26,
   "metadata": {
    "id": "6vHoakHi2RpO"
   },
   "outputs": [],
   "source": [
    "# Import the required libraries\n",
    "import pandas as pd\n",
    "import numpy as np"
   ]
  },
  {
   "cell_type": "markdown",
   "metadata": {},
   "source": [
    "# Importing Given File"
   ]
  },
  {
   "cell_type": "code",
   "execution_count": 18,
   "metadata": {
    "colab": {
     "base_uri": "https://localhost:8080/",
     "height": 198
    },
    "id": "YKpN9fye2YZp",
    "outputId": "f79ea5ae-a628-47cc-97b0-69a6a8633dae"
   },
   "outputs": [
    {
     "data": {
      "text/html": [
       "<div>\n",
       "<style scoped>\n",
       "    .dataframe tbody tr th:only-of-type {\n",
       "        vertical-align: middle;\n",
       "    }\n",
       "\n",
       "    .dataframe tbody tr th {\n",
       "        vertical-align: top;\n",
       "    }\n",
       "\n",
       "    .dataframe thead th {\n",
       "        text-align: right;\n",
       "    }\n",
       "</style>\n",
       "<table border=\"1\" class=\"dataframe\">\n",
       "  <thead>\n",
       "    <tr style=\"text-align: right;\">\n",
       "      <th></th>\n",
       "      <th>0</th>\n",
       "      <th>1</th>\n",
       "      <th>2</th>\n",
       "      <th>3</th>\n",
       "      <th>4</th>\n",
       "      <th>5</th>\n",
       "      <th>6</th>\n",
       "    </tr>\n",
       "  </thead>\n",
       "  <tbody>\n",
       "    <tr>\n",
       "      <th>0</th>\n",
       "      <td>vhigh</td>\n",
       "      <td>vhigh</td>\n",
       "      <td>2</td>\n",
       "      <td>2</td>\n",
       "      <td>small</td>\n",
       "      <td>low</td>\n",
       "      <td>unacc</td>\n",
       "    </tr>\n",
       "    <tr>\n",
       "      <th>1</th>\n",
       "      <td>vhigh</td>\n",
       "      <td>vhigh</td>\n",
       "      <td>2</td>\n",
       "      <td>2</td>\n",
       "      <td>small</td>\n",
       "      <td>med</td>\n",
       "      <td>unacc</td>\n",
       "    </tr>\n",
       "    <tr>\n",
       "      <th>2</th>\n",
       "      <td>vhigh</td>\n",
       "      <td>vhigh</td>\n",
       "      <td>2</td>\n",
       "      <td>2</td>\n",
       "      <td>small</td>\n",
       "      <td>high</td>\n",
       "      <td>unacc</td>\n",
       "    </tr>\n",
       "    <tr>\n",
       "      <th>3</th>\n",
       "      <td>vhigh</td>\n",
       "      <td>vhigh</td>\n",
       "      <td>2</td>\n",
       "      <td>2</td>\n",
       "      <td>med</td>\n",
       "      <td>low</td>\n",
       "      <td>unacc</td>\n",
       "    </tr>\n",
       "    <tr>\n",
       "      <th>4</th>\n",
       "      <td>vhigh</td>\n",
       "      <td>vhigh</td>\n",
       "      <td>2</td>\n",
       "      <td>2</td>\n",
       "      <td>med</td>\n",
       "      <td>med</td>\n",
       "      <td>unacc</td>\n",
       "    </tr>\n",
       "  </tbody>\n",
       "</table>\n",
       "</div>"
      ],
      "text/plain": [
       "       0      1  2  3      4     5      6\n",
       "0  vhigh  vhigh  2  2  small   low  unacc\n",
       "1  vhigh  vhigh  2  2  small   med  unacc\n",
       "2  vhigh  vhigh  2  2  small  high  unacc\n",
       "3  vhigh  vhigh  2  2    med   low  unacc\n",
       "4  vhigh  vhigh  2  2    med   med  unacc"
      ]
     },
     "execution_count": 18,
     "metadata": {},
     "output_type": "execute_result"
    }
   ],
   "source": [
    "imported_data_csv = pd.read_csv('car.data.txt',encoding = 'utf-8',header = None)\n",
    "imported_data_csv.head()\n"
   ]
  },
  {
   "cell_type": "markdown",
   "metadata": {},
   "source": [
    "# Putting Imported Data in Data Frame"
   ]
  },
  {
   "cell_type": "code",
   "execution_count": 20,
   "metadata": {
    "id": "xi8lTiT_zAEd"
   },
   "outputs": [],
   "source": [
    "data_frame_pd = {'buyin':list(imported_data_csv[0]), 'maint':list(imported_data_csv[1]), 'doors':list(imported_data_csv[2]), 'person':list(imported_data_csv[3]), 'lug-boot':list(imported_data_csv[4]), 'safety':list(imported_data_csv[5]), 'unacc':list(imported_data_csv[6])}\n",
    "data_frame_pd = pd.DataFrame(data_frame_pd)"
   ]
  },
  {
   "cell_type": "code",
   "execution_count": 21,
   "metadata": {
    "colab": {
     "base_uri": "https://localhost:8080/"
    },
    "id": "KuVyojWw20AI",
    "outputId": "26284450-cd5f-4775-cd5b-0dff4c75eb5c"
   },
   "outputs": [
    {
     "data": {
      "text/plain": [
       "(1728, 7)"
      ]
     },
     "execution_count": 21,
     "metadata": {},
     "output_type": "execute_result"
    }
   ],
   "source": [
    "data_frame_pd.shape"
   ]
  },
  {
   "cell_type": "markdown",
   "metadata": {},
   "source": [
    "# Information gain calculates the reduction in entropy or surprise from transforming a dataset in some way.\n",
    "\n",
    "It is commonly used in the construction of decision trees from a training dataset, by evaluating the information gain for each variable, and selecting the variable that maximizes the information gain, which in turn minimizes the entropy and best splits the dataset into groups for effective classification.\n",
    "\n",
    "Information gain can also be used for feature selection, by evaluating the gain of each variable in the context of the target variable. In this slightly different usage, the calculation is referred to as mutual information between the two random variables."
   ]
  },
  {
   "cell_type": "code",
   "execution_count": 28,
   "metadata": {
    "id": "g4QXrcre20gG"
   },
   "outputs": [],
   "source": [
    "def calculate_entropy_for_attributes(df_label):\n",
    "    classes_variable,count_of_classes = np.unique(df_label,return_counts = True)\n",
    "    entropy_value = np.sum([(-count_of_classes[i]/np.sum(count_of_classes))*np.log2(count_of_classes[i]/np.sum(count_of_classes)) \n",
    "                        for i in range(len(classes_variable))])\n",
    "    return entropy_value"
   ]
  },
  {
   "cell_type": "markdown",
   "metadata": {},
   "source": [
    "# What Is Information Gain?\n",
    "Information Gain, or IG for short, measures the reduction in entropy or surprise by splitting a dataset according to a given value of a random variable.\n",
    "\n",
    "A larger information gain suggests a lower entropy group or groups of samples, and hence less surprise.\n",
    "\n",
    "You might recall that information quantifies how surprising an event is in bits. Lower probability events have more information, higher probability events have less information. Entropy quantifies how much information there is in a random variable, or more specifically its probability distribution. A skewed distribution has a low entropy, whereas a distribution where events have equal probability has a larger entropy.\n",
    "\n",
    "In information theory, we like to describe the “surprise” of an event. Low probability events are more surprising therefore have a larger amount of information. Whereas probability distributions where the events are equally likely are more surprising and have larger entropy."
   ]
  },
  {
   "cell_type": "code",
   "execution_count": 23,
   "metadata": {
    "id": "AdzZ41Lf28v_"
   },
   "outputs": [],
   "source": [
    "# Define the calculate information gain function\n",
    "def calculate_information_gain(dataset,feature,label): \n",
    "    # Calculate the dataset entropy\n",
    "    dataset_entropy = calculate_entropy(dataset[label])   \n",
    "    values,feat_counts= np.unique(dataset[feature],return_counts=True)\n",
    "    \n",
    "    # Calculate the weighted feature entropy                                # Call the calculate_entropy function\n",
    "    weighted_feature_entropy = np.sum([(feat_counts[i]/np.sum(feat_counts))*calculate_entropy(dataset.where(dataset[feature]\n",
    "                              ==values[i]).dropna()[label]) for i in range(len(values))])    \n",
    "    feature_info_gain = dataset_entropy - weighted_feature_entropy\n",
    "    return feature_info_gain"
   ]
  },
  {
   "cell_type": "code",
   "execution_count": 24,
   "metadata": {
    "id": "_NrK6zvW2_AC"
   },
   "outputs": [],
   "source": [
    "\"\"\"\n",
    "This In-depth Tutorial Explains All About Decision Tree Algorithm In Data Mining.\n",
    "You will Learn About Decision Tree Examples, Algorithm & Classification:\n",
    "We had a look at a couple of Data Mining Examples in our previous tutorial in Free Data Mining Training Series.\n",
    "Decision Tree Mining is a type of data mining technique that is used to build Classification Models.\n",
    "It builds classification models in the form of a tree-like structure, just like its name.\n",
    "This type of mining belongs to supervised class learning.\n",
    "In supervised learning, the target result is already known.\n",
    "Decision trees can be used for both categorical and numerical data.\n",
    "The categorical data represent gender, marital status, etc. while the numerical data represent age, temperature, etc.\n",
    "\"\"\"\n",
    "def create_decision_tree(dataset,df,feature,label,parent):\n",
    "  datum=np.unique(df[label],return_counts=True)\n",
    "  #print(datum[1])\n",
    "  unique_data=np.unique(dataset[label])\n",
    "  #print(unique_data)\n",
    "\n",
    "  if len(unique_data)<=1:\n",
    "    return unique_data[0]\n",
    "\n",
    "  elif(len(dataset)==0):\n",
    "    return unique_data[np.argmax(datum[1])]\n",
    "\n",
    "  elif(len(features)==0):\n",
    "    return parent\n",
    "  \n",
    "  else:\n",
    "    \n",
    "    max=0\n",
    "    for k in range(0,len(unique_data)):\n",
    "      if(max<datum[1][k]):\n",
    "        max=datum[1][k]\n",
    "        idx=k\n",
    "    #print(np.argmax(datum[1]))\n",
    "    parent = unique_data[idx]\n",
    "    item_values = [calculate_information_gain(dataset,feature,label) for feature in features]\n",
    "    \n",
    "    optimum_feature_index = np.argmax(item_values)\n",
    "    optimum_feature = features[optimum_feature_index]\n",
    "    decision_tree = {optimum_feature:{}}\n",
    "    for value in np.unique(dataset[optimum_feature]):\n",
    "      min_data = dataset.where(dataset[optimum_feature] == value).dropna()\n",
    "\n",
    "      min_tree = create_decision_tree(min_data,df,features,label,parent)\n",
    "\n",
    "      decision_tree[optimum_feature][value] = min_tree\n",
    "\n",
    "    return(decision_tree)\n",
    "features = df.columns[:-1]\n",
    "label = 'unacc'\n",
    "parent=None\n",
    "features\n",
    "decision_tree = create_decision_tree(df,df,features,label,parent)\n"
   ]
  },
  {
   "cell_type": "code",
   "execution_count": 25,
   "metadata": {
    "colab": {
     "base_uri": "https://localhost:8080/"
    },
    "id": "HKCe7I_b3IB5",
    "outputId": "f7b36593-10e1-4613-efbc-d9a2a1038e74"
   },
   "outputs": [
    {
     "name": "stdout",
     "output_type": "stream",
     "text": [
      "{'safety': {'high': {'person': {'2': 'unacc', '4': {'buyin': {'high': {'maint': {'high': 'acc', 'low': 'acc', 'med': 'acc', 'vhigh': 'unacc'}}, 'low': {'maint': {'high': {'lug-boot': {'big': 'vgood', 'med': {'doors': {'2': 'acc', '3': 'acc', '4': 'vgood', '5more': 'vgood'}}, 'small': 'acc'}}, 'low': {'lug-boot': {'big': 'vgood', 'med': {'doors': {'2': 'good', '3': 'good', '4': 'vgood', '5more': 'vgood'}}, 'small': 'good'}}, 'med': {'lug-boot': {'big': 'vgood', 'med': {'doors': {'2': 'good', '3': 'good', '4': 'vgood', '5more': 'vgood'}}, 'small': 'good'}}, 'vhigh': 'acc'}}, 'med': {'maint': {'high': 'acc', 'low': {'lug-boot': {'big': 'vgood', 'med': {'doors': {'2': 'good', '3': 'good', '4': 'vgood', '5more': 'vgood'}}, 'small': 'good'}}, 'med': {'lug-boot': {'big': 'vgood', 'med': {'doors': {'2': 'acc', '3': 'acc', '4': 'vgood', '5more': 'vgood'}}, 'small': 'acc'}}, 'vhigh': 'acc'}}, 'vhigh': {'maint': {'high': 'unacc', 'low': 'acc', 'med': 'acc', 'vhigh': 'unacc'}}}}, 'more': {'buyin': {'high': {'maint': {'high': {'doors': {'2': {'lug-boot': {'big': 'acc', 'med': 'acc', 'small': 'unacc'}}, '3': 'acc', '4': 'acc', '5more': 'acc'}}, 'low': {'doors': {'2': {'lug-boot': {'big': 'acc', 'med': 'acc', 'small': 'unacc'}}, '3': 'acc', '4': 'acc', '5more': 'acc'}}, 'med': {'doors': {'2': {'lug-boot': {'big': 'acc', 'med': 'acc', 'small': 'unacc'}}, '3': 'acc', '4': 'acc', '5more': 'acc'}}, 'vhigh': 'unacc'}}, 'low': {'maint': {'high': {'lug-boot': {'big': 'vgood', 'med': {'doors': {'2': 'acc', '3': 'vgood', '4': 'vgood', '5more': 'vgood'}}, 'small': {'doors': {'2': 'unacc', '3': 'acc', '4': 'acc', '5more': 'acc'}}}}, 'low': {'lug-boot': {'big': 'vgood', 'med': {'doors': {'2': 'good', '3': 'vgood', '4': 'vgood', '5more': 'vgood'}}, 'small': {'doors': {'2': 'unacc', '3': 'good', '4': 'good', '5more': 'good'}}}}, 'med': {'lug-boot': {'big': 'vgood', 'med': {'doors': {'2': 'good', '3': 'vgood', '4': 'vgood', '5more': 'vgood'}}, 'small': {'doors': {'2': 'unacc', '3': 'good', '4': 'good', '5more': 'good'}}}}, 'vhigh': {'doors': {'2': {'lug-boot': {'big': 'acc', 'med': 'acc', 'small': 'unacc'}}, '3': 'acc', '4': 'acc', '5more': 'acc'}}}}, 'med': {'maint': {'high': {'doors': {'2': {'lug-boot': {'big': 'acc', 'med': 'acc', 'small': 'unacc'}}, '3': 'acc', '4': 'acc', '5more': 'acc'}}, 'low': {'lug-boot': {'big': 'vgood', 'med': {'doors': {'2': 'good', '3': 'vgood', '4': 'vgood', '5more': 'vgood'}}, 'small': {'doors': {'2': 'unacc', '3': 'good', '4': 'good', '5more': 'good'}}}}, 'med': {'lug-boot': {'big': 'vgood', 'med': {'doors': {'2': 'acc', '3': 'vgood', '4': 'vgood', '5more': 'vgood'}}, 'small': {'doors': {'2': 'unacc', '3': 'acc', '4': 'acc', '5more': 'acc'}}}}, 'vhigh': {'doors': {'2': {'lug-boot': {'big': 'acc', 'med': 'acc', 'small': 'unacc'}}, '3': 'acc', '4': 'acc', '5more': 'acc'}}}}, 'vhigh': {'maint': {'high': 'unacc', 'low': {'doors': {'2': {'lug-boot': {'big': 'acc', 'med': 'acc', 'small': 'unacc'}}, '3': 'acc', '4': 'acc', '5more': 'acc'}}, 'med': {'doors': {'2': {'lug-boot': {'big': 'acc', 'med': 'acc', 'small': 'unacc'}}, '3': 'acc', '4': 'acc', '5more': 'acc'}}, 'vhigh': 'unacc'}}}}}}, 'low': 'unacc', 'med': {'person': {'2': 'unacc', '4': {'buyin': {'high': {'lug-boot': {'big': {'maint': {'high': 'acc', 'low': 'acc', 'med': 'acc', 'vhigh': 'unacc'}}, 'med': {'doors': {'2': 'unacc', '3': 'unacc', '4': {'maint': {'high': 'acc', 'low': 'acc', 'med': 'acc', 'vhigh': 'unacc'}}, '5more': {'maint': {'high': 'acc', 'low': 'acc', 'med': 'acc', 'vhigh': 'unacc'}}}}, 'small': 'unacc'}}, 'low': {'maint': {'high': 'acc', 'low': {'lug-boot': {'big': 'good', 'med': {'doors': {'2': 'acc', '3': 'acc', '4': 'good', '5more': 'good'}}, 'small': 'acc'}}, 'med': {'lug-boot': {'big': 'good', 'med': {'doors': {'2': 'acc', '3': 'acc', '4': 'good', '5more': 'good'}}, 'small': 'acc'}}, 'vhigh': {'lug-boot': {'big': 'acc', 'med': {'doors': {'2': 'unacc', '3': 'unacc', '4': 'acc', '5more': 'acc'}}, 'small': 'unacc'}}}}, 'med': {'maint': {'high': {'lug-boot': {'big': 'acc', 'med': {'doors': {'2': 'unacc', '3': 'unacc', '4': 'acc', '5more': 'acc'}}, 'small': 'unacc'}}, 'low': {'lug-boot': {'big': 'good', 'med': {'doors': {'2': 'acc', '3': 'acc', '4': 'good', '5more': 'good'}}, 'small': 'acc'}}, 'med': 'acc', 'vhigh': {'lug-boot': {'big': 'acc', 'med': {'doors': {'2': 'unacc', '3': 'unacc', '4': 'acc', '5more': 'acc'}}, 'small': 'unacc'}}}}, 'vhigh': {'maint': {'high': 'unacc', 'low': {'lug-boot': {'big': 'acc', 'med': {'doors': {'2': 'unacc', '3': 'unacc', '4': 'acc', '5more': 'acc'}}, 'small': 'unacc'}}, 'med': {'lug-boot': {'big': 'acc', 'med': {'doors': {'2': 'unacc', '3': 'unacc', '4': 'acc', '5more': 'acc'}}, 'small': 'unacc'}}, 'vhigh': 'unacc'}}}}, 'more': {'buyin': {'high': {'lug-boot': {'big': {'maint': {'high': 'acc', 'low': 'acc', 'med': 'acc', 'vhigh': 'unacc'}}, 'med': {'maint': {'high': {'doors': {'2': 'unacc', '3': 'acc', '4': 'acc', '5more': 'acc'}}, 'low': {'doors': {'2': 'unacc', '3': 'acc', '4': 'acc', '5more': 'acc'}}, 'med': {'doors': {'2': 'unacc', '3': 'acc', '4': 'acc', '5more': 'acc'}}, 'vhigh': 'unacc'}}, 'small': 'unacc'}}, 'low': {'maint': {'high': {'doors': {'2': {'lug-boot': {'big': 'acc', 'med': 'acc', 'small': 'unacc'}}, '3': 'acc', '4': 'acc', '5more': 'acc'}}, 'low': {'lug-boot': {'big': 'good', 'med': {'doors': {'2': 'acc', '3': 'good', '4': 'good', '5more': 'good'}}, 'small': {'doors': {'2': 'unacc', '3': 'acc', '4': 'acc', '5more': 'acc'}}}}, 'med': {'lug-boot': {'big': 'good', 'med': {'doors': {'2': 'acc', '3': 'good', '4': 'good', '5more': 'good'}}, 'small': {'doors': {'2': 'unacc', '3': 'acc', '4': 'acc', '5more': 'acc'}}}}, 'vhigh': {'lug-boot': {'big': 'acc', 'med': {'doors': {'2': 'unacc', '3': 'acc', '4': 'acc', '5more': 'acc'}}, 'small': 'unacc'}}}}, 'med': {'maint': {'high': {'lug-boot': {'big': 'acc', 'med': {'doors': {'2': 'unacc', '3': 'acc', '4': 'acc', '5more': 'acc'}}, 'small': 'unacc'}}, 'low': {'lug-boot': {'big': 'good', 'med': {'doors': {'2': 'acc', '3': 'good', '4': 'good', '5more': 'good'}}, 'small': {'doors': {'2': 'unacc', '3': 'acc', '4': 'acc', '5more': 'acc'}}}}, 'med': {'doors': {'2': {'lug-boot': {'big': 'acc', 'med': 'acc', 'small': 'unacc'}}, '3': 'acc', '4': 'acc', '5more': 'acc'}}, 'vhigh': {'lug-boot': {'big': 'acc', 'med': {'doors': {'2': 'unacc', '3': 'acc', '4': 'acc', '5more': 'acc'}}, 'small': 'unacc'}}}}, 'vhigh': {'maint': {'high': 'unacc', 'low': {'lug-boot': {'big': 'acc', 'med': {'doors': {'2': 'unacc', '3': 'acc', '4': 'acc', '5more': 'acc'}}, 'small': 'unacc'}}, 'med': {'lug-boot': {'big': 'acc', 'med': {'doors': {'2': 'unacc', '3': 'acc', '4': 'acc', '5more': 'acc'}}, 'small': 'unacc'}}, 'vhigh': 'unacc'}}}}}}}}\n"
     ]
    }
   ],
   "source": [
    "print(decision_tree)"
   ]
  },
  {
   "cell_type": "code",
   "execution_count": null,
   "metadata": {
    "id": "5H4y4hofBoOX"
   },
   "outputs": [],
   "source": []
  }
 ],
 "metadata": {
  "colab": {
   "name": "Car_evaluation.ipynb",
   "provenance": []
  },
  "kernelspec": {
   "display_name": "Python 3",
   "language": "python",
   "name": "python3"
  },
  "language_info": {
   "codemirror_mode": {
    "name": "ipython",
    "version": 3
   },
   "file_extension": ".py",
   "mimetype": "text/x-python",
   "name": "python",
   "nbconvert_exporter": "python",
   "pygments_lexer": "ipython3",
   "version": "3.8.5"
  }
 },
 "nbformat": 4,
 "nbformat_minor": 1
}
