{
  "nbformat": 4,
  "nbformat_minor": 0,
  "metadata": {
    "colab": {
      "name": "Linear_Regression.ipynb",
      "provenance": []
    },
    "kernelspec": {
      "name": "python3",
      "display_name": "Python 3"
    }
  },
  "cells": [
    {
      "cell_type": "markdown",
      "metadata": {
        "id": "2ep7t3GxOwYV"
      },
      "source": [
        "#IMPORTED DATA FROM GIVEN DATASET"
      ]
    },
    {
      "cell_type": "code",
      "metadata": {
        "colab": {
          "base_uri": "https://localhost:8080/"
        },
        "id": "S0iabl5vodhf",
        "outputId": "aa4adf11-3093-42e7-bc10-7f71e8be16ba"
      },
      "source": [
        "import pandas as panda_lib\r\n",
        "\r\n",
        "import numpy as np\r\n",
        "\r\n",
        "#IMOPRTED DATA FROM GIVEN DATASET\r\n",
        "data_frame_from_imported_dataset = panda_lib.read_excel (r'/content/data.xlsx')\r\n",
        "\r\n",
        "\r\n",
        "print (data_frame_from_imported_dataset)"
      ],
      "execution_count": 9,
      "outputs": [
        {
          "output_type": "stream",
          "text": [
            "            x         y\n",
            "0    8.401169  6.176239\n",
            "1    6.251134  7.913023\n",
            "2    8.268641  5.676593\n",
            "3    7.791409  6.145519\n",
            "4    5.591513  5.659804\n",
            "..        ...       ...\n",
            "345  3.421501  4.523067\n",
            "346  3.284232  3.617980\n",
            "347  4.951906  1.914979\n",
            "348  0.168459  1.490085\n",
            "349  2.121266  3.458558\n",
            "\n",
            "[350 rows x 2 columns]\n"
          ],
          "name": "stdout"
        }
      ]
    },
    {
      "cell_type": "code",
      "metadata": {
        "id": "NQfj0MqPpKvc"
      },
      "source": [
        "independent_variable = list(data_frame_from_imported_dataset[\"x\"])\r\n",
        "\r\n",
        "dependent_variable = list(data_frame_from_imported_dataset[\"y\"])\r\n",
        "\r\n",
        "x_square_values = []\r\n",
        "\r\n",
        "x_mul_y_values = []"
      ],
      "execution_count": 10,
      "outputs": []
    },
    {
      "cell_type": "code",
      "metadata": {
        "id": "Ph9adTp-pg4c"
      },
      "source": [
        "for i in range(0,len(independent_variable)):\r\n",
        "  \r\n",
        "  x_square_values.append(independent_variable[i]*independent_variable[i])\r\n",
        "\r\n",
        "  x_mul_y_values.append(independent_variable[i]*dependent_variable[i])\r\n",
        "\r\n",
        "X_mean = np.mean(independent_variable)\r\n",
        "\r\n",
        "Y_mean = np.mean(dependent_variable)\r\n",
        "\r\n",
        "bais_x_mul_y_valuse___________=0\r\n",
        "\r\n",
        "bais_x_squared_values_________=0"
      ],
      "execution_count": 11,
      "outputs": []
    },
    {
      "cell_type": "code",
      "metadata": {
        "id": "qg0oVi0cpkQg"
      },
      "source": [
        "for i in range(0,len(independent_variable)):\r\n",
        "  \r\n",
        "  bais_x_mul_y_valuse___________ = bais_x_mul_y_valuse___________ + (independent_variable[i] - X_mean)*(dependent_variable[i] - Y_mean)\r\n",
        "  \r\n",
        "  bais_x_squared_values_________ = bais_x_squared_values_________ + (independent_variable[i] - X_mean)*(independent_variable[i] - X_mean)\r\n",
        "\r\n",
        "bais_value_1 = bais_x_mul_y_valuse___________/bais_x_squared_values_________\r\n",
        "\r\n",
        "bais_value_0 = Y_mean - bais_value_1*X_mean\r\n"
      ],
      "execution_count": 12,
      "outputs": []
    },
    {
      "cell_type": "code",
      "metadata": {
        "id": "NSAT38lt1wIo",
        "colab": {
          "base_uri": "https://localhost:8080/"
        },
        "outputId": "528310e3-2f0f-4d67-cd0e-77cc8b42f265"
      },
      "source": [
        "def prediction_using_simple_linear_regression(x):\r\n",
        "  \r\n",
        "  prediction_using_simple_linear_regression = bais_value_1*x + bais_value_0\r\n",
        "  \r\n",
        "  return prediction_using_simple_linear_regression\r\n",
        "\r\n",
        "print(prediction_using_simple_linear_regression(0.5185642009))\r\n"
      ],
      "execution_count": 13,
      "outputs": [
        {
          "output_type": "stream",
          "text": [
            "1.5589411596009193\n"
          ],
          "name": "stdout"
        }
      ]
    }
  ]
}